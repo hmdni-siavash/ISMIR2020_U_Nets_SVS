{
 "cells": [
  {
   "cell_type": "markdown",
   "metadata": {},
   "source": [
    "## 1. Model Defnition"
   ]
  },
  {
   "cell_type": "code",
   "execution_count": 1,
   "metadata": {},
   "outputs": [
    {
     "name": "stdout",
     "output_type": "stream",
     "text": [
      "intermediate\t at level 0 with TFC_TDF\n",
      "downsampling\t at level 0 with scale(T, F):  (2, 2) , F_scale:  2048 -> 1024\n",
      "intermediate\t at level 1 with TFC_TDF\n",
      "downsampling\t at level 1 with scale(T, F):  (2, 2) , F_scale:  1024 -> 512\n",
      "intermediate\t at level 2 with TFC_TDF\n",
      "downsampling\t at level 2 with scale(T, F):  (2, 2) , F_scale:  512 -> 256\n",
      "intermediate\t at level 3 with TFC_TDF\n",
      "downsampling\t at level 3 with scale(T, F):  (2, 2) , F_scale:  256 -> 128\n",
      "intermediate\t at level 3 with TFC_TDF\n",
      "upsampling\t at level 0 with scale(T, F):  (2, 2) , F_scale:  128 -> 256\n",
      "intermediate\t at level 0 with TFC_TDF\n",
      "upsampling\t at level 1 with scale(T, F):  (2, 2) , F_scale:  256 -> 512\n",
      "intermediate\t at level 1 with TFC_TDF\n",
      "upsampling\t at level 2 with scale(T, F):  (2, 2) , F_scale:  512 -> 1024\n",
      "intermediate\t at level 2 with TFC_TDF\n",
      "upsampling\t at level 3 with scale(T, F):  (2, 2) , F_scale:  1024 -> 2048\n",
      "intermediate\t at level 3 with TFC_TDF\n"
     ]
    }
   ],
   "source": [
    "import torch\n",
    "import torch.nn as nn\n",
    "from utils_ismir import MusdbLoaer\n",
    "from intermediate_layers import TFC_TDF\n",
    "from frameworks import U_Net_Framework\n",
    "\n",
    "device = torch.device(\"cuda:0\" if torch.cuda.is_available() else \"cpu\")\n",
    "musdb_loader = MusdbLoaer(n_fft=4096, hop_factor=2, dim_t=128, device=device)\n",
    "\n",
    "def mk_tfc_tdf (input_c, output_c, f, i):\n",
    "    print('intermediate\\t at level', i, 'with TFC_TDF')\n",
    "    return TFC_TDF(in_channels=input_c, num_layers=5, gr=output_c, kt=3, kf=3, f=f, bn_factor=16, bias=True)\n",
    "\n",
    "t_scale = [0,1,2,3]\n",
    "\n",
    "def mk_tfc_tdf_ds (i, f, t_scale=t_scale):\n",
    "    scale = (2,2) if i in t_scale else (1,2)\n",
    "    print('downsampling\\t at level', i, 'with scale(T, F): ', scale, ', F_scale: ', f, '->', f//scale[-1])\n",
    "    ds = nn.Sequential(\n",
    "        nn.Conv2d(in_channels=24, out_channels=24, kernel_size=scale, stride=scale),\n",
    "        nn.BatchNorm2d(24)\n",
    "    )\n",
    "    return ds, f//scale[-1]\n",
    "\n",
    "def mk_tfc_tdf_us (i, f, n, t_scale=t_scale):\n",
    "    scale = (2,2) if i in [n -1 -s for s in  t_scale] else (1,2)\n",
    "\n",
    "    print('upsampling\\t at level', i, 'with scale(T, F): ', scale, ', F_scale: ', f, '->', f*scale[-1])\n",
    "    us = nn.Sequential(\n",
    "        nn.ConvTranspose2d(in_channels=24, out_channels=24, kernel_size=scale, stride=scale),\n",
    "        nn.BatchNorm2d(24)\n",
    "    )\n",
    "    return us, f*scale[-1]\n",
    "\n",
    "\n",
    "model = U_Net_Framework(\n",
    "    musdb_loader, est_mode='cac_mapping', internal_channels=24, num_blocks=9, \n",
    "    mk_block_f=mk_tfc_tdf, mk_ds_f=mk_tfc_tdf_ds, mk_us_f=mk_tfc_tdf_us\n",
    ").to(device)"
   ]
  },
  {
   "cell_type": "code",
   "execution_count": 2,
   "metadata": {
    "scrolled": true
   },
   "outputs": [
    {
     "name": "stdout",
     "output_type": "stream",
     "text": [
      "# params: 2232132\n"
     ]
    }
   ],
   "source": [
    "print('# params:', sum(p.numel() for p in model.parameters() if p.requires_grad) )"
   ]
  },
  {
   "cell_type": "markdown",
   "metadata": {},
   "source": [
    "## 2. Load Pretrained Model"
   ]
  },
  {
   "cell_type": "code",
   "execution_count": 3,
   "metadata": {
    "scrolled": true
   },
   "outputs": [
    {
     "name": "stdout",
     "output_type": "stream",
     "text": [
      "cac_tfc_tdf_large_vocals.pt\r\n"
     ]
    }
   ],
   "source": [
    "!ls pretrained | grep cac_tfc_tdf_large"
   ]
  },
  {
   "cell_type": "code",
   "execution_count": 4,
   "metadata": {
    "scrolled": false
   },
   "outputs": [
    {
     "data": {
      "text/plain": [
       "<All keys matched successfully>"
      ]
     },
     "execution_count": 4,
     "metadata": {},
     "output_type": "execute_result"
    }
   ],
   "source": [
    "model = nn.DataParallel(model, device_ids=[0,1,2,3]).to(device)\n",
    "pretrained_params = torch.load('pretrained/cac_tfc_tdf_large_vocals.pt', map_location=device)\n",
    "model.load_state_dict(pretrained_params)"
   ]
  },
  {
   "cell_type": "markdown",
   "metadata": {},
   "source": [
    "## 3. Evaluation: Musdb18 Benchmark\n",
    "\n",
    "### 3.1 SDR performance of the pretrained U-Net with 17 TFC_TDF blocks"
   ]
  },
  {
   "cell_type": "code",
   "execution_count": 6,
   "metadata": {},
   "outputs": [
    {
     "name": "stdout",
     "output_type": "stream",
     "text": [
      "8.19998045664882\n"
     ]
    },
    {
     "data": {
      "image/png": "[encoded data removed]",
      "text/plain": [
       "<Figure size 432x288 with 1 Axes>"
      ]
     },
     "metadata": {
      "needs_background": "light"
     },
     "output_type": "display_data"
    },
    {
     "name": "stdout",
     "output_type": "stream",
     "text": [
      "SDR mean: 6.822240998631778\n",
      "SDR median: 8.05138464498863\n",
      "SDR medians:  8.05138464498863\n"
     ]
    }
   ],
   "source": [
    "from utils_ismir import separate, eval_testset\n",
    "import statistics as stats\n",
    "\n",
    "def separator (mix):\n",
    "    return separate(musdb_loader, model, mix, batch_size=16)\n",
    "\n",
    "sdrs, sdr_mean, sdr_median  = eval_testset(musdb_loader, separator, target_name='vocals')\n",
    "    \n",
    "print('SDR medians: ', sdr_median)"
   ]
  }
 ],
 "metadata": {
  "kernelspec": {
   "display_name": "Python 3",
   "language": "python",
   "name": "python3"
  },
  "language_info": {
   "codemirror_mode": {
    "name": "ipython",
    "version": 3
   },
   "file_extension": ".py",
   "mimetype": "text/x-python",
   "name": "python",
   "nbconvert_exporter": "python",
   "pygments_lexer": "ipython3",
   "version": "3.7.7"
  }
 },
 "nbformat": 4,
 "nbformat_minor": 4
}
