{
 "cells": [
  {
   "cell_type": "markdown",
   "metadata": {},
   "source": [
    "## 1. Model Defnition"
   ]
  },
  {
   "cell_type": "code",
   "execution_count": null,
   "metadata": {
    "scrolled": false
   },
   "outputs": [],
   "source": [
    "from utils_ismir import *\n",
    "from intermediate_layers import * \n",
    "from frameworks import *\n",
    "import torch.nn as nn\n",
    "\n",
    "device = torch.device(\"cuda:0\" if torch.cuda.is_available() else \"cpu\")\n",
    "musdb_loader = MusdbLoaer(device=device)\n",
    "\n",
    "def mk_tfc_tif (input_c, output_c, f, i):\n",
    "    print('intermediate\\t at level', i, 'with TFC_TIF')\n",
    "    return TFC_TIF(in_channels=input_c, num_layers=5, gr=output_c, kt=3, kf=3, f=f, bn_factor=16, bias=True)\n",
    "\n",
    "t_scale = [0,2,4,6]\n",
    "\n",
    "def mk_tfc_tif_ds (i, f, t_scale=t_scale):\n",
    "    scale = (2,2) if i in t_scale else (1,2)\n",
    "    print('downsampling\\t at level', i, 'with scale(T, F): ', scale, ', F_scale: ', f, '->', f//scale[-1])\n",
    "    ds = nn.Sequential(\n",
    "        nn.Conv2d(in_channels=24, out_channels=24, kernel_size=scale, stride=scale),\n",
    "        nn.BatchNorm2d(24)\n",
    "    )\n",
    "    return ds, f//scale[-1]\n",
    "\n",
    "def mk_tfc_tif_us (i, f, n, t_scale=t_scale):\n",
    "    scale = (2,2) if i in [n -1 -s for s in  t_scale] else (1,2)\n",
    "\n",
    "    print('upsampling\\t at level', i, 'with scale(T, F): ', scale, ', F_scale: ', f, '->', f*scale[-1])\n",
    "    us = nn.Sequential(\n",
    "        nn.ConvTranspose2d(in_channels=24, out_channels=24, kernel_size=scale, stride=scale),\n",
    "        nn.BatchNorm2d(24)\n",
    "    )\n",
    "    return us, f*scale[-1]\n",
    "\n",
    "\n",
    "model = U_Net_Framework(\n",
    "    musdb_loader, est_mode='cac_mapping', internal_channels=24, num_blocks=17, \n",
    "    mk_block_f=mk_tfc_tif, mk_ds_f=mk_tfc_tif_ds, mk_us_f=mk_tfc_tif_us\n",
    ").cuda()"
   ]
  },
  {
   "cell_type": "markdown",
   "metadata": {},
   "source": [
    "## 2. Load Pretrained Model"
   ]
  },
  {
   "cell_type": "code",
   "execution_count": null,
   "metadata": {},
   "outputs": [],
   "source": [
    "!ls pretrained | grep cac_tfc_tif_17_vocals"
   ]
  },
  {
   "cell_type": "code",
   "execution_count": null,
   "metadata": {
    "scrolled": false
   },
   "outputs": [],
   "source": [
    "pretrained_path = 'pretrained/cac_tfc_tif_17_vocals_top2.pt'\n",
    "pretrained_params = torch.load(pretrained_path)\n",
    "model.load_state_dict(pretrained_params)"
   ]
  },
  {
   "cell_type": "markdown",
   "metadata": {},
   "source": [
    "## 3. Evaluation: Musdb18 Benchmark\n",
    "\n",
    "### 3.1 SDR performance of the pretrained U-Net with 17 TFC_TIF blocks"
   ]
  },
  {
   "cell_type": "code",
   "execution_count": null,
   "metadata": {
    "scrolled": false
   },
   "outputs": [],
   "source": [
    "def separator (mix):\n",
    "    return separate(musdb_loader, model, mix, batch_size=16)\n",
    "\n",
    "sdrs = eval_testset(musdb_loader, separator, target_name='vocals')"
   ]
  },
  {
   "cell_type": "markdown",
   "metadata": {},
   "source": [
    "### 3.2. SDR performance of the pretrained UMX"
   ]
  },
  {
   "cell_type": "code",
   "execution_count": null,
   "metadata": {
    "scrolled": true
   },
   "outputs": [],
   "source": [
    "!git clone https://github.com/sigsep/open-unmix-pytorch\n",
    "%cd open-unmix-pytorch\n",
    "%mv test.py umx_test.py\n",
    "!pip install norbert"
   ]
  },
  {
   "cell_type": "code",
   "execution_count": null,
   "metadata": {
    "scrolled": true
   },
   "outputs": [],
   "source": [
    "import umx_test as umx\n",
    "musdb_loader = MusdbLoaer(musdb_path='../data/musdb18/', device=device)\n",
    "\n",
    "def separator(mix):\n",
    "    \n",
    "    est = umx.separate(\n",
    "        audio=mix.T,\n",
    "        targets=['vocals', 'drums', 'bass', 'other'], \n",
    "        model_name='umx',\n",
    "        device=device\n",
    "    )\n",
    "    \n",
    "    return est['vocals'].T\n",
    "\n",
    "umx_sdr = eval_testset(musdb_loader, separator, target_name='vocals')"
   ]
  }
 ],
 "metadata": {
  "kernelspec": {
   "display_name": "Python 3",
   "language": "python",
   "name": "python3"
  },
  "language_info": {
   "codemirror_mode": {
    "name": "ipython",
    "version": 3
   },
   "file_extension": ".py",
   "mimetype": "text/x-python",
   "name": "python",
   "nbconvert_exporter": "python",
   "pygments_lexer": "ipython3",
   "version": "3.7.7"
  }
 },
 "nbformat": 4,
 "nbformat_minor": 4
}
