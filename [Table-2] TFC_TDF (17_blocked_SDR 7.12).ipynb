{
 "cells": [
  {
   "cell_type": "markdown",
   "metadata": {},
   "source": [
    "## 1. Model Defnition"
   ]
  },
  {
   "cell_type": "code",
   "execution_count": 1,
   "metadata": {
    "scrolled": true
   },
   "outputs": [
    {
     "name": "stdout",
     "output_type": "stream",
     "text": [
      "intermediate\t at level 0 with TFC_TDF\n",
      "downsampling\t at level 0 with scale(T, F):  (2, 2) , F_scale:  1024 -> 512\n",
      "intermediate\t at level 1 with TFC_TDF\n",
      "downsampling\t at level 1 with scale(T, F):  (1, 2) , F_scale:  512 -> 256\n",
      "intermediate\t at level 2 with TFC_TDF\n",
      "downsampling\t at level 2 with scale(T, F):  (2, 2) , F_scale:  256 -> 128\n",
      "intermediate\t at level 3 with TFC_TDF\n",
      "downsampling\t at level 3 with scale(T, F):  (1, 2) , F_scale:  128 -> 64\n",
      "intermediate\t at level 4 with TFC_TDF\n",
      "downsampling\t at level 4 with scale(T, F):  (2, 2) , F_scale:  64 -> 32\n",
      "intermediate\t at level 5 with TFC_TDF\n",
      "downsampling\t at level 5 with scale(T, F):  (1, 2) , F_scale:  32 -> 16\n",
      "intermediate\t at level 6 with TFC_TDF\n",
      "downsampling\t at level 6 with scale(T, F):  (2, 2) , F_scale:  16 -> 8\n",
      "intermediate\t at level 7 with TFC_TDF\n",
      "downsampling\t at level 7 with scale(T, F):  (1, 2) , F_scale:  8 -> 4\n",
      "intermediate\t at level 7 with TFC_TDF\n",
      "upsampling\t at level 0 with scale(T, F):  (1, 2) , F_scale:  4 -> 8\n",
      "intermediate\t at level 0 with TFC_TDF\n",
      "upsampling\t at level 1 with scale(T, F):  (2, 2) , F_scale:  8 -> 16\n",
      "intermediate\t at level 1 with TFC_TDF\n",
      "upsampling\t at level 2 with scale(T, F):  (1, 2) , F_scale:  16 -> 32\n",
      "intermediate\t at level 2 with TFC_TDF\n",
      "upsampling\t at level 3 with scale(T, F):  (2, 2) , F_scale:  32 -> 64\n",
      "intermediate\t at level 3 with TFC_TDF\n",
      "upsampling\t at level 4 with scale(T, F):  (1, 2) , F_scale:  64 -> 128\n",
      "intermediate\t at level 4 with TFC_TDF\n",
      "upsampling\t at level 5 with scale(T, F):  (2, 2) , F_scale:  128 -> 256\n",
      "intermediate\t at level 5 with TFC_TDF\n",
      "upsampling\t at level 6 with scale(T, F):  (1, 2) , F_scale:  256 -> 512\n",
      "intermediate\t at level 6 with TFC_TDF\n",
      "upsampling\t at level 7 with scale(T, F):  (2, 2) , F_scale:  512 -> 1024\n",
      "intermediate\t at level 7 with TFC_TDF\n"
     ]
    }
   ],
   "source": [
    "import torch\n",
    "import torch.nn as nn\n",
    "from utils_ismir import MusdbLoaer\n",
    "from intermediate_layers import TFC_TDF\n",
    "from frameworks import U_Net_Framework\n",
    "\n",
    "device = torch.device(\"cuda:0\" if torch.cuda.is_available() else \"cpu\")\n",
    "musdb_loader = MusdbLoaer(device=device)\n",
    "\n",
    "def mk_tfc_tdf (input_c, output_c, f, i):\n",
    "    print('intermediate\\t at level', i, 'with TFC_TDF')\n",
    "    return TFC_TDF(in_channels=input_c, num_layers=5, gr=output_c, kt=3, kf=3, f=f, bn_factor=16, bias=True)\n",
    "\n",
    "t_scale = [0,2,4,6]\n",
    "\n",
    "def mk_tfc_tdf_ds (i, f, t_scale=t_scale):\n",
    "    scale = (2,2) if i in t_scale else (1,2)\n",
    "    print('downsampling\\t at level', i, 'with scale(T, F): ', scale, ', F_scale: ', f, '->', f//scale[-1])\n",
    "    ds = nn.Sequential(\n",
    "        nn.Conv2d(in_channels=24, out_channels=24, kernel_size=scale, stride=scale),\n",
    "        nn.BatchNorm2d(24)\n",
    "    )\n",
    "    return ds, f//scale[-1]\n",
    "\n",
    "def mk_tfc_tdf_us (i, f, n, t_scale=t_scale):\n",
    "    scale = (2,2) if i in [n -1 -s for s in  t_scale] else (1,2)\n",
    "\n",
    "    print('upsampling\\t at level', i, 'with scale(T, F): ', scale, ', F_scale: ', f, '->', f*scale[-1])\n",
    "    us = nn.Sequential(\n",
    "        nn.ConvTranspose2d(in_channels=24, out_channels=24, kernel_size=scale, stride=scale),\n",
    "        nn.BatchNorm2d(24)\n",
    "    )\n",
    "    return us, f*scale[-1]\n",
    "\n",
    "\n",
    "model = U_Net_Framework(\n",
    "    musdb_loader, est_mode='cac_mapping', internal_channels=24, num_blocks=17, \n",
    "    mk_block_f=mk_tfc_tdf, mk_ds_f=mk_tfc_tdf_ds, mk_us_f=mk_tfc_tdf_us\n",
    ").cuda()"
   ]
  },
  {
   "cell_type": "code",
   "execution_count": 3,
   "metadata": {
    "scrolled": true
   },
   "outputs": [
    {
     "name": "stdout",
     "output_type": "stream",
     "text": [
      "# params: 1930840\n"
     ]
    }
   ],
   "source": [
    "print('# params:', sum(p.numel() for p in model.parameters() if p.requires_grad) )"
   ]
  },
  {
   "cell_type": "markdown",
   "metadata": {},
   "source": [
    "## 2. Load Pretrained Model"
   ]
  },
  {
   "cell_type": "code",
   "execution_count": 4,
   "metadata": {
    "scrolled": true
   },
   "outputs": [
    {
     "name": "stdout",
     "output_type": "stream",
     "text": [
      "cac_tfc_tdf_17_vocals_top1.pt\r\n",
      "cac_tfc_tdf_17_vocals_top2.pt\r\n",
      "cac_tfc_tdf_17_vocals_top3.pt\r\n"
     ]
    }
   ],
   "source": [
    "!ls pretrained | grep cac_tfc_tdf_17_vocals"
   ]
  },
  {
   "cell_type": "code",
   "execution_count": 5,
   "metadata": {
    "scrolled": false
   },
   "outputs": [
    {
     "data": {
      "text/plain": [
       "<All keys matched successfully>"
      ]
     },
     "execution_count": 5,
     "metadata": {},
     "output_type": "execute_result"
    }
   ],
   "source": [
    "pretrained_paths = ['pretrained/cac_tfc_tdf_17_vocals_top1.pt',\n",
    "                    'pretrained/cac_tfc_tdf_17_vocals_top2.pt',\n",
    "                    'pretrained/cac_tfc_tdf_17_vocals_top3.pt']\n",
    "\n",
    "pretrained_params = torch.load(pretrained_paths[0])\n",
    "model.load_state_dict(pretrained_params)"
   ]
  },
  {
   "cell_type": "markdown",
   "metadata": {},
   "source": [
    "## 3. Evaluation: Musdb18 Benchmark\n",
    "\n",
    "### 3.1 SDR performance of the pretrained U-Net with 17 TFC_TDF blocks"
   ]
  },
  {
   "cell_type": "code",
   "execution_count": 4,
   "metadata": {
    "scrolled": false
   },
   "outputs": [
    {
     "name": "stdout",
     "output_type": "stream",
     "text": [
      "7.231349508046177\n"
     ]
    },
    {
     "data": {
      "image/png": "[encoded data removed]",
      "text/plain": [
       "<Figure size 432x288 with 1 Axes>"
      ]
     },
     "metadata": {
      "needs_background": "light"
     },
     "output_type": "display_data"
    },
    {
     "name": "stdout",
     "output_type": "stream",
     "text": [
      "SDR mean: 6.1756639535808375\n",
      "SDR median: 7.14880312538662\n",
      "mean of SDR medians:  7.122239125735944\n"
     ]
    }
   ],
   "source": [
    "from utils_ismir import separate, eval_testset\n",
    "import statistics as stats\n",
    "\n",
    "sdr_medians = []\n",
    "\n",
    "for pretrained in pretrained_paths:\n",
    "    \n",
    "    pretrained_params = torch.load(pretrained)\n",
    "    model.load_state_dict(pretrained_params)\n",
    "    \n",
    "    def separator (mix):\n",
    "        return separate(musdb_loader, model, mix, batch_size=16)\n",
    "\n",
    "    sdrs, sdr_mean, sdr_median  = eval_testset(musdb_loader, separator, target_name='vocals')\n",
    "    sdr_medians.append(sdr_median)\n",
    "    \n",
    "print('mean of SDR medians: ', stats.mean(sdr_medians))"
   ]
  },
  {
   "cell_type": "markdown",
   "metadata": {},
   "source": [
    "### 3.2. SDR performance of the pretrained UMX"
   ]
  },
  {
   "cell_type": "code",
   "execution_count": 5,
   "metadata": {
    "scrolled": true
   },
   "outputs": [],
   "source": [
    "# !git clone https://github.com/sigsep/open-unmix-pytorch\n",
    "# %mv open-unmix-pytorch/test.py open-unmix-pytorch/umx_test.py\n",
    "# !pip install norbert"
   ]
  },
  {
   "cell_type": "code",
   "execution_count": 22,
   "metadata": {
    "scrolled": true
   },
   "outputs": [
    {
     "name": "stdout",
     "output_type": "stream",
     "text": [
      "6.334033248512589\n"
     ]
    },
    {
     "data": {
      "image/png": "[encoded data removed]",
      "text/plain": [
       "<Figure size 432x288 with 1 Axes>"
      ]
     },
     "metadata": {
      "needs_background": "light"
     },
     "output_type": "display_data"
    },
    {
     "name": "stdout",
     "output_type": "stream",
     "text": [
      "SDR mean: 5.184140683089768\n",
      "SDR median: 6.319676771911556\n",
      "UMX's SDR medians:  6.319676771911556\n"
     ]
    }
   ],
   "source": [
    "%cd open-unmix-pytorch\n",
    "import umx_test as umx\n",
    "\n",
    "musdb_loader = MusdbLoaer(musdb_path='../data/musdb18/', device=device)\n",
    "\n",
    "def separator(mix):\n",
    "    \n",
    "    est = umx.separate(\n",
    "        audio=mix.T,\n",
    "        targets=['vocals', 'drums', 'bass', 'other'], \n",
    "        device=device\n",
    "    )\n",
    "    \n",
    "    return est['vocals'].T\n",
    "\n",
    "umx_sdrs, umx_sdr_mean, umx_sdr_median  = eval_testset(musdb_loader, separator, target_name='vocals')\n",
    "\n",
    "    \n",
    "print('UMX\\'s SDR medians: ', umx_sdr_median)"
   ]
  },
  {
   "cell_type": "code",
   "execution_count": 13,
   "metadata": {},
   "outputs": [
    {
     "name": "stdout",
     "output_type": "stream",
     "text": [
      "# params: 8893348\n"
     ]
    }
   ],
   "source": [
    "print('# params:', sum(p.numel() for p in umx.load_model('vocals', ).parameters() if p.requires_grad) )"
   ]
  }
 ],
 "metadata": {
  "kernelspec": {
   "display_name": "Python 3",
   "language": "python",
   "name": "python3"
  },
  "language_info": {
   "codemirror_mode": {
    "name": "ipython",
    "version": 3
   },
   "file_extension": ".py",
   "mimetype": "text/x-python",
   "name": "python",
   "nbconvert_exporter": "python",
   "pygments_lexer": "ipython3",
   "version": "3.7.6"
  }
 },
 "nbformat": 4,
 "nbformat_minor": 4
}
